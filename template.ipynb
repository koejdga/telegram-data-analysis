{
 "cells": [
  {
   "cell_type": "markdown",
   "id": "d2854b84",
   "metadata": {},
   "source": [
    "## Exploratory Data Analysis\n",
    "### Template\n",
    "#### Author: `SOFIIA BUDILOVA`"
   ]
  },
  {
   "cell_type": "markdown",
   "id": "e615cb7e",
   "metadata": {},
   "source": [
    "## <center>План</center>"
   ]
  },
  {
   "cell_type": "markdown",
   "id": "019ef637",
   "metadata": {},
   "source": [
    "#### [Вступ](#start)\n",
    "\n",
    "#### [Переробка таблиці](#table_remake)\n",
    "\n",
    "#### [Відповіді на питання](#questions)\n",
    "\n",
    "1 [Яка середня кількість моїх повідомлень у групи й у приватні чати?](#mean)\n",
    "\n",
    "2 [Яка середня довжина повідомлень, які я відправляю та отримую?](#mean2)\n",
    "\n",
    "3 [Яка середня довжина пересланих повідомлень, які я відправляю та отримую?](#fwd_length)\n",
    "\n",
    "4 [Звідки зазвичай переслані повідомлення, від людей чи з каналів?](#fwd_from_whom)\n",
    "\n",
    "5 [Кількість пересланих повідомлень за датою](#fwd_by_date)\n",
    "\n",
    "6 [Коли я лягаю спати та коли встаю?](#sleep)\n",
    "\n",
    "7 [У який час доби я пишу більше, а у який - менше?](#sleep2)\n",
    "\n",
    "8 [З ким переписок більше за гендером?](#gender)\n",
    "\n",
    "9 [З ким за гендером в мене більше переписок у який період часу?](#gender_date)\n",
    "\n",
    "10 [Якою мовою зазвичай листування?](#language)\n",
    "\n",
    "11 [Хто пише більше під час переписки, я чи людина, з якою я розмовляю?](#who_writes_more)\n",
    "\n",
    "12 [Хто частіше пише першою, я чи людина, з якою я розмовляю?](#who_writes_first)\n",
    "\n",
    "13 [Які теми зазвичай у переписках?](#topics)\n",
    "\n",
    "#### [Аналіз переписок з друзями](#friends)\n",
    "\n",
    "14 [Які найбільш використовувані слова в листуванні?](#words)\n",
    "\n",
    "15 [А якими є найбільш використовувані пари слів?](#bigrams)\n",
    "\n",
    "16 [Частота використання слів, пов'язаних із навчанням](#studying)\n",
    "\n",
    "17 [Частота використання позитивно- та негативнозабарвлених емоційних слів](#pos_and_neg)\n",
    "\n",
    "19 [Частота використання слів, пов'язаних зі студентстьким життям](#naukma)\n",
    "\n",
    "20 [Частота використання слів, пов'язаних із виїздом з окупованих територій](#war)\n",
    "\n",
    "21 [Погляньмо на найбільш використовувані смайлики](#emojis)\n",
    "\n",
    "22 [Які смайликі трапляються в усіх 4 чатах?](#emojis2)\n",
    "\n",
    "23 [Яких смайликів більше: позитивних чи негативних?](#emojis3)\n",
    "\n",
    "24 [Сентиментальний аналіз](#sentiment)\n",
    "\n",
    "25 [Коли ми найбільше спілкувалися?](#speaking)\n",
    "\n",
    "26 [Які іменовані сутності найбільш поширені у переписках?](#ner)"
   ]
  },
  {
   "cell_type": "markdown",
   "id": "5ecd897d",
   "metadata": {},
   "source": [
    " "
   ]
  },
  {
   "cell_type": "markdown",
   "id": "dfd58f57",
   "metadata": {},
   "source": [
    " <a id='start'></a>"
   ]
  },
  {
   "cell_type": "markdown",
   "id": "fa638bbd",
   "metadata": {},
   "source": [
    "## Вступ"
   ]
  },
  {
   "cell_type": "markdown",
   "id": "7179edd9",
   "metadata": {},
   "source": [
    "У цій частині знаходиться код, спільний для різних питань, тому бажано запустити усі клітинки, починаючи з цієї, закінчуючи клітинкою 'Злиття df і df_meta'"
   ]
  },
  {
   "cell_type": "code",
   "execution_count": null,
   "id": "367dbcce",
   "metadata": {
    "pycharm": {
     "is_executing": true
    }
   },
   "outputs": [],
   "source": [
    "import pandas as pd"
   ]
  },
  {
   "cell_type": "code",
   "execution_count": null,
   "id": "537ce43c",
   "metadata": {},
   "outputs": [],
   "source": [
    "DIALOGS_MERGED_DATA_PATH = '../data/merged_data/modified_dialogs_data_all.csv'\n",
    "DIALOGS_META_MERGED_DATA_PATH = '../data/merged_data/modified_dialogs_users_all.csv'"
   ]
  },
  {
   "cell_type": "code",
   "execution_count": null,
   "id": "a4beb453",
   "metadata": {},
   "outputs": [],
   "source": [
    "df = pd.read_csv(DIALOGS_MERGED_DATA_PATH, low_memory=False)\n",
    "df_meta = pd.read_csv(DIALOGS_META_MERGED_DATA_PATH)"
   ]
  },
  {
   "cell_type": "code",
   "execution_count": 1,
   "id": "62230663",
   "metadata": {},
   "outputs": [],
   "source": [
    "my_id ='вставте тут свій ID у телеграмі, його можна дізнатися у боті @userinfobot'"
   ]
  },
  {
   "cell_type": "code",
   "execution_count": null,
   "id": "d876ae80",
   "metadata": {},
   "outputs": [],
   "source": [
    "my_id_str = f'PeerUser(user_id={my_id})'"
   ]
  },
  {
   "cell_type": "code",
   "execution_count": null,
   "id": "22698ad9",
   "metadata": {},
   "outputs": [],
   "source": [
    "df.shape"
   ]
  },
  {
   "cell_type": "code",
   "execution_count": null,
   "id": "e5bb47bc",
   "metadata": {
    "scrolled": true
   },
   "outputs": [],
   "source": [
    "df_meta.shape"
   ]
  },
  {
   "cell_type": "markdown",
   "id": "80b97e19",
   "metadata": {},
   "source": [
    "### Імпорти"
   ]
  },
  {
   "cell_type": "code",
   "execution_count": null,
   "id": "24ee3424",
   "metadata": {},
   "outputs": [],
   "source": [
    "import json\n",
    "import emoji\n",
    "import re\n",
    "import string\n",
    "import requests\n",
    "import csv\n",
    "import os"
   ]
  },
  {
   "cell_type": "code",
   "execution_count": null,
   "id": "6fc493e8",
   "metadata": {},
   "outputs": [],
   "source": [
    "import datetime as dt\n",
    "from pytz import timezone, all_timezones"
   ]
  },
  {
   "cell_type": "code",
   "execution_count": null,
   "id": "4f658535",
   "metadata": {},
   "outputs": [],
   "source": [
    "import numpy as np\n",
    "import matplotlib\n",
    "import matplotlib.pyplot as plt\n",
    "from matplotlib.dates import MonthLocator\n",
    "import matplotlib.dates as mdates"
   ]
  },
  {
   "cell_type": "code",
   "execution_count": null,
   "id": "43cfd594",
   "metadata": {},
   "outputs": [],
   "source": [
    "import nltk\n",
    "import nltk.corpus\n",
    "from nltk.tokenize import word_tokenize\n",
    "from nltk.probability import FreqDist"
   ]
  },
  {
   "cell_type": "code",
   "execution_count": null,
   "id": "bbf76df1",
   "metadata": {},
   "outputs": [],
   "source": [
    "from vaderSentiment.vaderSentiment import SentimentIntensityAnalyzer\n",
    "import stanza\n",
    "from stanza.models.common.doc import Document\n",
    "from stanza.pipeline.core import Pipeline"
   ]
  },
  {
   "cell_type": "code",
   "execution_count": null,
   "id": "06663a1a",
   "metadata": {},
   "outputs": [],
   "source": [
    "from sklearn.feature_extraction.text import TfidfVectorizer\n",
    "from sklearn.feature_extraction.text import CountVectorizer\n",
    "from sklearn.cluster import KMeans\n",
    "import math"
   ]
  },
  {
   "cell_type": "markdown",
   "id": "ba85c5c9",
   "metadata": {},
   "source": [
    "### Функції"
   ]
  },
  {
   "cell_type": "code",
   "execution_count": null,
   "id": "6329aa9f",
   "metadata": {},
   "outputs": [],
   "source": [
    "def unique(list1):\n",
    "    return np.unique(np.array(list1)).tolist()"
   ]
  },
  {
   "cell_type": "code",
   "execution_count": null,
   "id": "1e603823",
   "metadata": {},
   "outputs": [],
   "source": [
    "# сюди можна передавати як нікнейм або його частину, використовуючи regular expressions, так і id діалогу\n",
    "def get_id(name):\n",
    "    if (type(name) == int): return name\n",
    "    else: \n",
    "        id = df_meta.loc[df_meta['name'].str.contains(name, regex=True)]['dialog_id']\n",
    "        if id.size > 1: return 'Є декілька діалогів, що містять в імені заданий рядок, передайте як параметр id діалогу'\n",
    "        return int(id)"
   ]
  },
  {
   "cell_type": "code",
   "execution_count": null,
   "id": "38c053c0",
   "metadata": {},
   "outputs": [],
   "source": [
    "# get_xy_from_dict\n",
    "def get_x_y(number_of_messages):\n",
    "    lists1 = sorted(number_of_messages.items())\n",
    "    x, y = zip(*lists1)\n",
    "    return x, y"
   ]
  },
  {
   "cell_type": "code",
   "execution_count": null,
   "id": "c2d65589",
   "metadata": {},
   "outputs": [],
   "source": [
    "def get_messages(id):\n",
    "    messages_df = df.loc[(df['dialog_id'] == id) & (df['type'] == 'text')].copy()\n",
    "    messages_df.reset_index(inplace=True)\n",
    "    return messages_df"
   ]
  },
  {
   "cell_type": "markdown",
   "id": "35771633",
   "metadata": {},
   "source": [
    "<a id='table_remake'></a>"
   ]
  },
  {
   "cell_type": "markdown",
   "id": "fccc92b8",
   "metadata": {},
   "source": [
    "## Переробка таблиці"
   ]
  },
  {
   "cell_type": "code",
   "execution_count": null,
   "id": "4f507a28",
   "metadata": {},
   "outputs": [],
   "source": [
    "df['dialog_id'] = df['dialog_id'].apply(lambda x: int(x))\n",
    "\n",
    "df_meta['dialog_id'] = df_meta['dialog_id'].apply(lambda x: int(x))\n",
    "\n",
    "df['message']= df['message'].astype(str)\n",
    "\n",
    "df['normalized'] = df['normalized'].astype(str)"
   ]
  },
  {
   "cell_type": "markdown",
   "id": "f9ad2829",
   "metadata": {},
   "source": [
    "### Злиття df і df_meta"
   ]
  },
  {
   "cell_type": "code",
   "execution_count": null,
   "id": "6ef16422",
   "metadata": {
    "scrolled": true
   },
   "outputs": [],
   "source": [
    "df.columns"
   ]
  },
  {
   "cell_type": "code",
   "execution_count": null,
   "id": "123082c2",
   "metadata": {},
   "outputs": [],
   "source": [
    "df_meta.columns"
   ]
  },
  {
   "cell_type": "code",
   "execution_count": null,
   "id": "d4384262",
   "metadata": {},
   "outputs": [],
   "source": [
    "df['dialog_name'] = [df_meta.loc[df_meta['dialog_id'] == df.loc[num, 'dialog_id']].reset_index().loc[0,'name']\n",
    "                     if df_meta.loc[df_meta['dialog_id'] == df.loc[num, 'dialog_id']].size > 0\n",
    "                     else None\n",
    "                     for num in range(len(df))]"
   ]
  },
  {
   "cell_type": "code",
   "execution_count": null,
   "id": "951001ce",
   "metadata": {},
   "outputs": [],
   "source": [
    "df['dialog_type'] = [df_meta.loc[df_meta['dialog_id'] == df.loc[num, 'dialog_id']].reset_index().loc[0,'type']\n",
    "                     if df_meta.loc[df_meta['dialog_id'] == df.loc[num, 'dialog_id']].size > 0\n",
    "                     else None\n",
    "                     for num in range(len(df))]"
   ]
  },
  {
   "cell_type": "code",
   "execution_count": null,
   "id": "340f0f03",
   "metadata": {},
   "outputs": [],
   "source": [
    "df['gender'] = [df_meta.loc[df_meta['dialog_id'] == df.loc[num, 'dialog_id']].reset_index().loc[0,'gender']\n",
    "                     if df_meta.loc[df_meta['dialog_id'] == df.loc[num, 'dialog_id']].size > 0\n",
    "                     else None\n",
    "                     for num in range(len(df))]"
   ]
  },
  {
   "cell_type": "code",
   "execution_count": null,
   "id": "d4302280",
   "metadata": {},
   "outputs": [],
   "source": [
    "df.columns"
   ]
  },
  {
   "cell_type": "code",
   "execution_count": null,
   "id": "e1e24377",
   "metadata": {},
   "outputs": [],
   "source": [
    "df.to_csv('../data/merged_data/modified_dialogs_data_all.csv', index = False, encoding='utf-8') "
   ]
  },
  {
   "cell_type": "markdown",
   "id": "98280bae",
   "metadata": {},
   "source": [
    "<a id='questions'></a>"
   ]
  },
  {
   "cell_type": "markdown",
   "id": "e48a10d6",
   "metadata": {},
   "source": [
    "# Відповіді на питання\n",
    "<a id='mean'></a>"
   ]
  },
  {
   "cell_type": "markdown",
   "id": "72e50810",
   "metadata": {},
   "source": [
    "### Яка середня кількість моїх повідомлень у групи й у приватні чати?"
   ]
  },
  {
   "cell_type": "code",
   "execution_count": null,
   "id": "03e72a13",
   "metadata": {},
   "outputs": [],
   "source": [
    "group_m = df.loc[(df['from_id'] == my_id_str) & (df['to_id'].str.contains('Chat|Channel', regex=True))]['id'].count()\n",
    "private_m = df.loc[(df['from_id'] == my_id_str) & (~df['to_id'].str.contains('Chat|Channel', regex=True))]['id'].count()"
   ]
  },
  {
   "cell_type": "code",
   "execution_count": null,
   "id": "02a3633a",
   "metadata": {},
   "outputs": [],
   "source": [
    "group_amount = df_meta.loc[df_meta['type'].str.contains('Group|Channel', regex=True)]['name'].unique().size # кількість груп\n",
    "private_amount = df_meta.loc[df_meta['type'] == 'Private dialog']['name'].unique().size # кількість приватних листувань"
   ]
  },
  {
   "cell_type": "code",
   "execution_count": null,
   "id": "e1954222",
   "metadata": {},
   "outputs": [],
   "source": [
    "group_mean = group_m / group_amount\n",
    "private_mean = private_m / private_amount"
   ]
  },
  {
   "cell_type": "code",
   "execution_count": null,
   "id": "30db6f04",
   "metadata": {},
   "outputs": [],
   "source": [
    "fig = plt.figure()\n",
    "ax = fig.add_axes([0,0,1,1])\n",
    "fig.set_size_inches(3,2)\n",
    "x = ['Групи', 'Приватні чати']\n",
    "y = [group_mean, private_mean]\n",
    "ax.bar(x,y)\n",
    "plt.title(\"Середня кількість повідомлень від мене\")\n",
    "plt.ylabel('кількість повідомлень')\n",
    "plt.show()"
   ]
  },
  {
   "cell_type": "code",
   "execution_count": null,
   "id": "28a3c2b2",
   "metadata": {},
   "outputs": [],
   "source": [
    "private_mean / group_mean # у скільки разів приватних повідомлень у середньому більше/менше, ніж повідомлень у групи"
   ]
  },
  {
   "cell_type": "markdown",
   "id": "66a42f6f",
   "metadata": {},
   "source": [
    "<a id='mean2'></a>"
   ]
  },
  {
   "cell_type": "markdown",
   "id": "bde6f0c3",
   "metadata": {},
   "source": [
    "### Яка середня довжина повідомлень, які я відправляю та отримую?"
   ]
  },
  {
   "cell_type": "code",
   "execution_count": null,
   "id": "c0451b36",
   "metadata": {},
   "outputs": [],
   "source": [
    "def create_len_dict(borders):\n",
    "    length_dict = {}\n",
    "    \n",
    "    length_dict[f'x≤{borders[0]}'] = 0\n",
    "    for i in range(0, len(borders)-1):\n",
    "        length_dict[f'{borders[i]}<x≤{borders[i+1]}'] = 0\n",
    "    length_dict[f'x>{borders[-1]}'] = 0\n",
    "    \n",
    "    return length_dict"
   ]
  },
  {
   "cell_type": "code",
   "execution_count": null,
   "id": "ac909116",
   "metadata": {},
   "outputs": [],
   "source": [
    "def length_func(text, length_dict, borders):\n",
    "    if len(text) <= borders[0]: \n",
    "        length_dict[f'x≤{borders[0]}'] += 1\n",
    "        return\n",
    "    \n",
    "    for i in range(1, len(borders)):\n",
    "        if len(text) <= borders[i]:\n",
    "            length_dict[f'{borders[i-1]}<x≤{borders[i]}'] += 1\n",
    "            return\n",
    "    \n",
    "    length_dict[f'x>{borders[-1]}'] += 1    "
   ]
  },
  {
   "cell_type": "code",
   "execution_count": null,
   "id": "b2c148be",
   "metadata": {},
   "outputs": [],
   "source": [
    "borders = [3,15,50,200]\n",
    "length_to_me = create_len_dict(borders)\n",
    "length_from_me = create_len_dict(borders)"
   ]
  },
  {
   "cell_type": "code",
   "execution_count": null,
   "id": "6667d03b",
   "metadata": {},
   "outputs": [],
   "source": [
    "messages_to_me = df.loc[(df['type'] == 'text') & (df['dialog_type'] == 'Private dialog') & (df['to_id'] == my_id)]\\\n",
    "                ['message']\n",
    "messages_from_me = df.loc[(df['type'] == 'text') & (df['dialog_type'] == 'Private dialog') & (df['from_id'] == my_id_str)]\\\n",
    "                ['message']"
   ]
  },
  {
   "cell_type": "code",
   "execution_count": null,
   "id": "39619558",
   "metadata": {},
   "outputs": [],
   "source": [
    "messages_to_me.apply(length_func, args=(length_to_me, borders))\n",
    "messages_from_me.apply(length_func, args=(length_from_me, borders))"
   ]
  },
  {
   "cell_type": "code",
   "execution_count": null,
   "id": "0fa94bbf",
   "metadata": {},
   "outputs": [],
   "source": [
    "def draw_plot(length_to_me, length_from_me, title=None):\n",
    "    barWidth = 0.25\n",
    "    fig = plt.subplots(figsize =(7, 4))\n",
    "    num = len(length_to_me)\n",
    "\n",
    "    br1 = range(num)\n",
    "    br2 = [x + barWidth for x in br1]\n",
    "\n",
    "    plt.bar(br1, list(length_to_me.values()), width = barWidth,\n",
    "            color ='#58508d', label ='відправлені')\n",
    "    plt.bar(br2, list(length_from_me.values()), width = barWidth,\n",
    "            color ='#bc5090', label ='отримані')\n",
    "\n",
    "    plt.xlabel('довжина повідомлення', fontsize = 10)\n",
    "    plt.ylabel('кількість повідомлень', fontsize = 10)\n",
    "    plt.xticks([r + barWidth for r in range(num)],\n",
    "               list(length_to_me.keys()))\n",
    "\n",
    "    plt.title(title)\n",
    "    plt.legend()\n",
    "    plt.show()"
   ]
  },
  {
   "cell_type": "code",
   "execution_count": null,
   "id": "50f845cb",
   "metadata": {},
   "outputs": [],
   "source": [
    "draw_plot(length_to_me, length_from_me, 'Повідомлення за кількістю символів')"
   ]
  },
  {
   "cell_type": "markdown",
   "id": "240cdafc",
   "metadata": {},
   "source": [
    "<a id='fwd_length'></a>"
   ]
  },
  {
   "cell_type": "markdown",
   "id": "64b87f1c",
   "metadata": {},
   "source": [
    "### Яка середня довжина пересланих повідомлень, які я відправляю та отримую?"
   ]
  },
  {
   "cell_type": "code",
   "execution_count": null,
   "id": "3b900462",
   "metadata": {},
   "outputs": [],
   "source": [
    "def create_len_dict(borders):\n",
    "    length_dict = {}\n",
    "    \n",
    "    length_dict[f'x≤{borders[0]}'] = 0\n",
    "    for i in range(0, len(borders)-1):\n",
    "        length_dict[f'{borders[i]}<x≤{borders[i+1]}'] = 0\n",
    "    length_dict[f'x>{borders[-1]}'] = 0\n",
    "    \n",
    "    return length_dict"
   ]
  },
  {
   "cell_type": "code",
   "execution_count": null,
   "id": "a2571370",
   "metadata": {},
   "outputs": [],
   "source": [
    "def length_func(text, length_dict, borders):\n",
    "    if len(text) <= borders[0]: \n",
    "        length_dict[f'x≤{borders[0]}'] += 1\n",
    "        return\n",
    "    \n",
    "    for i in range(1, len(borders)):\n",
    "        if len(text) <= borders[i]:\n",
    "            length_dict[f'{borders[i-1]}<x≤{borders[i]}'] += 1\n",
    "            return\n",
    "    \n",
    "    length_dict[f'x>{borders[-1]}'] += 1    "
   ]
  },
  {
   "cell_type": "code",
   "execution_count": null,
   "id": "4283d66b",
   "metadata": {},
   "outputs": [],
   "source": [
    "def draw_plot(length_to_me, length_from_me, title=None):\n",
    "    barWidth = 0.25\n",
    "    fig = plt.subplots(figsize =(7, 4))\n",
    "    num = len(length_to_me)\n",
    "\n",
    "    br1 = range(num)\n",
    "    br2 = [x + barWidth for x in br1]\n",
    "\n",
    "    plt.bar(br1, list(length_to_me.values()), width = barWidth,\n",
    "            color ='#58508d', label ='відправлені')\n",
    "    plt.bar(br2, list(length_from_me.values()), width = barWidth,\n",
    "            color ='#bc5090', label ='отримані')\n",
    "\n",
    "    plt.xlabel('довжина повідомлення', fontsize = 10)\n",
    "    plt.ylabel('кількість повідомлень', fontsize = 10)\n",
    "    plt.xticks([r + barWidth for r in range(num)],\n",
    "               list(length_to_me.keys()))\n",
    "\n",
    "    plt.title(title)\n",
    "    plt.legend()\n",
    "    plt.show()"
   ]
  },
  {
   "cell_type": "code",
   "execution_count": null,
   "id": "8d604237",
   "metadata": {},
   "outputs": [],
   "source": [
    "borders = [3,15,50,200]\n",
    "length_fwd_to_me = create_len_dict(borders)\n",
    "length_fwd_from_me = create_len_dict(borders)"
   ]
  },
  {
   "cell_type": "code",
   "execution_count": null,
   "id": "9b5629c4",
   "metadata": {},
   "outputs": [],
   "source": [
    "fwd_to_me =  df.loc[(df['type'] == 'text') & (df['dialog_type'] == 'Private dialog') & (df['to_id'] == my_id) &\n",
    "                   (df['fwd_from'] == df['fwd_from'])]['message']\n",
    "fwd_from_me =  df.loc[(df['type'] == 'text') & (df['dialog_type'] == 'Private dialog') & (df['from_id'] == my_id_str) &\n",
    "                   (df['fwd_from'] == df['fwd_from'])]['message']"
   ]
  },
  {
   "cell_type": "code",
   "execution_count": null,
   "id": "9968af85",
   "metadata": {},
   "outputs": [],
   "source": [
    "fwd_to_me.apply(length_func, args=(length_fwd_to_me, borders))\n",
    "fwd_from_me.apply(length_func, args=(length_fwd_from_me, borders))"
   ]
  },
  {
   "cell_type": "code",
   "execution_count": null,
   "id": "259e0bab",
   "metadata": {},
   "outputs": [],
   "source": [
    "draw_plot(length_fwd_from_me, length_fwd_to_me, title='Переслані повідомлення за кількістю символів')"
   ]
  },
  {
   "cell_type": "markdown",
   "id": "73491286",
   "metadata": {},
   "source": [
    "<a id='fwd_from_whom'></a>"
   ]
  },
  {
   "cell_type": "markdown",
   "id": "f671a4b7",
   "metadata": {},
   "source": [
    "### Звідки зазвичай переслані повідомлення, від людей чи з каналів?"
   ]
  },
  {
   "cell_type": "code",
   "execution_count": null,
   "id": "4f3e0912",
   "metadata": {
    "scrolled": false
   },
   "outputs": [],
   "source": [
    "fwd_info = df.loc[(df['dialog_type'] == 'Private dialog') & (df['fwd_from'] == df['fwd_from'])].copy()\n",
    "fwd_by = {}\n",
    "fwd_by['me'] = fwd_info.loc[fwd_info['from_id'] == my_id_str]\n",
    "fwd_by['others'] = fwd_info.loc[fwd_info['from_id'] != my_id_str]\n",
    "\n",
    "\n",
    "def fwd_from_who(fwd_by):\n",
    "    l = list(fwd_by['fwd_from'])\n",
    "    from_id = [item.split('from_id=')[1].split('(')[0] for item in l]\n",
    "    from_id = [item if not item.startswith('None') else 'PeerUser' for item in from_id]\n",
    "    return from_id.count('PeerUser'), from_id.count('PeerChannel')"
   ]
  },
  {
   "cell_type": "code",
   "execution_count": null,
   "id": "dc680dfa",
   "metadata": {},
   "outputs": [],
   "source": [
    "barWidth = 0.2\n",
    "fig = plt.subplots(figsize =(7, 4))\n",
    "\n",
    "br1 = np.arange(0.0, 1.0, 0.5)\n",
    "br2 = [x + barWidth for x in br1]\n",
    "\n",
    "bar1 = plt.bar(br1, fwd_from_who(fwd_by['me']), width = barWidth,\n",
    "                color ='#58508d', label ='відправлені')\n",
    "bar2 = plt.bar(br2, fwd_from_who(fwd_by['others']), width = barWidth,\n",
    "                color ='#bc5090', label ='отримані')\n",
    "\n",
    "plt.xlabel('довжина повідомлення', fontsize = 10)\n",
    "plt.ylabel('кількість повідомлень', fontsize = 10)\n",
    "plt.xticks([r + barWidth/2 for r in br1],\n",
    "                   ['користувачі', 'канали'])\n",
    "\n",
    "plt.bar_label(bar1, fontsize=9)\n",
    "plt.bar_label(bar2, fontsize=9)\n",
    "\n",
    "plt.title('Від кого переслані повідомлення?')\n",
    "plt.legend()\n",
    "plt.show()"
   ]
  },
  {
   "cell_type": "markdown",
   "id": "667c4a6d",
   "metadata": {},
   "source": [
    "<a id='fwd_by_date'></a>"
   ]
  },
  {
   "cell_type": "markdown",
   "id": "1a463365",
   "metadata": {},
   "source": [
    "### Кількість пересланих повідомлень за датою"
   ]
  },
  {
   "cell_type": "code",
   "execution_count": null,
   "id": "19b2be28",
   "metadata": {},
   "outputs": [],
   "source": [
    "datetimes = [dt.datetime.fromisoformat(timestamp).astimezone(timezone('Europe/Kyiv')) for timestamp in fwd_info['date']]\n",
    "fwd_info['date'] = [datetime.date() for datetime in datetimes]\n",
    "\n",
    "dates = unique([datetime.date() for datetime in datetimes])"
   ]
  },
  {
   "cell_type": "code",
   "execution_count": null,
   "id": "105f52a4",
   "metadata": {},
   "outputs": [],
   "source": [
    "counters = {}\n",
    "counters['fwd_by_me'] = [fwd_by['me'].loc[fwd_info['date'] == date].shape[0] for date in dates]\n",
    "counters['fwd_by_others'] = [fwd_by['others'].loc[fwd_info['date'] == date].shape[0] for date in dates]"
   ]
  },
  {
   "cell_type": "code",
   "execution_count": null,
   "id": "08ed9306",
   "metadata": {},
   "outputs": [],
   "source": [
    "def draw_plot(x,y,title=None, size=(15,10)):    \n",
    "    fig = matplotlib.pyplot.gcf()\n",
    "    fig.set_size_inches(size)\n",
    "    ax = plt.subplot()\n",
    "\n",
    "    ax.set_xlabel('роки', fontsize=16)\n",
    "    ax.set_ylabel('кількість повідомлень', fontsize=16)\n",
    "    ax.set_title(title, fontsize=20)\n",
    "\n",
    "    ax.scatter(x, y)\n",
    "\n",
    "    plt.show()"
   ]
  },
  {
   "cell_type": "code",
   "execution_count": null,
   "id": "b9589e0d",
   "metadata": {},
   "outputs": [],
   "source": [
    "draw_plot(dates, counters['fwd_by_me'], 'Кількість пересланих повідомлень, надісланих мною, залежно від дати', (15, 8))"
   ]
  },
  {
   "cell_type": "code",
   "execution_count": null,
   "id": "e196d226",
   "metadata": {},
   "outputs": [],
   "source": [
    "draw_plot(dates, counters['fwd_by_others'],\\\n",
    "          'Кількість пересланих повідомлень, надісланих іншими, залежно від дати',(15, 10))"
   ]
  },
  {
   "cell_type": "markdown",
   "id": "ba5d1336",
   "metadata": {},
   "source": [
    "<a id='sleep'></a>"
   ]
  },
  {
   "cell_type": "markdown",
   "id": "726fad0f",
   "metadata": {},
   "source": [
    "### Коли я лягаю спати та коли встаю?"
   ]
  },
  {
   "cell_type": "markdown",
   "id": "6d83d04e",
   "metadata": {},
   "source": [
    "Аналіз на основі останніх відправлених вночі та перших відправлених зранку повідомлень"
   ]
  },
  {
   "cell_type": "code",
   "execution_count": null,
   "id": "e59b032c",
   "metadata": {},
   "outputs": [],
   "source": [
    "datetimes = sorted([dt.datetime.fromisoformat(timestamp).astimezone(timezone('Europe/Kyiv')) for timestamp in df.date])\n",
    "\n",
    "dates = unique([datetime.date() for datetime in datetimes])"
   ]
  },
  {
   "cell_type": "code",
   "execution_count": null,
   "id": "9d37d5ca",
   "metadata": {},
   "outputs": [],
   "source": [
    "def tomorrow(date):\n",
    "    return date + dt.timedelta(days=1)"
   ]
  },
  {
   "cell_type": "markdown",
   "id": "9a897d27",
   "metadata": {},
   "source": [
    "Час прокидання"
   ]
  },
  {
   "cell_type": "code",
   "execution_count": null,
   "id": "96dfa379",
   "metadata": {},
   "outputs": [],
   "source": [
    "day_times = []\n",
    "\n",
    "for datetime in datetimes:\n",
    "    if datetime.time() > dt.time(4) and datetime.time() < dt.time(15):\n",
    "        day_times.append(datetime)"
   ]
  },
  {
   "cell_type": "code",
   "execution_count": null,
   "id": "e51b174b",
   "metadata": {},
   "outputs": [],
   "source": [
    "day_maxes = []\n",
    "null_date = dt.datetime(2030,1,1).astimezone(timezone('Europe/Kyiv'))\n",
    "for date in dates:\n",
    "    day_maxes.append(null_date)\n",
    "    for day_time in day_times:\n",
    "        if day_time.date() == date and day_time == min(day_time, day_maxes[-1]):\n",
    "            day_maxes[-1] = day_time\n",
    "    if day_maxes[-1] == null_date:\n",
    "        del day_maxes[-1]"
   ]
  },
  {
   "cell_type": "code",
   "execution_count": null,
   "id": "8ed76323",
   "metadata": {},
   "outputs": [],
   "source": [
    "day_maxes = [time for time in day_maxes]"
   ]
  },
  {
   "cell_type": "code",
   "execution_count": null,
   "id": "2e94d535",
   "metadata": {},
   "outputs": [],
   "source": [
    "# d = day\n",
    "d = [dt.datetime(2000,1,1,time.hour,time.minute,time.second,0).astimezone(timezone('Europe/Kyiv')) for time in day_maxes]"
   ]
  },
  {
   "cell_type": "code",
   "execution_count": null,
   "id": "16ec01cb",
   "metadata": {},
   "outputs": [],
   "source": [
    "x = pd.Series(d)\n",
    "waking_up_mean = x.pipe(lambda d: (lambda m: m + (d - m).mean())(d.min())).to_pydatetime() # середній час"
   ]
  },
  {
   "cell_type": "code",
   "execution_count": null,
   "id": "a220c658",
   "metadata": {},
   "outputs": [],
   "source": [
    "waking_up_mean.time() # середній час прокидання"
   ]
  },
  {
   "cell_type": "code",
   "execution_count": null,
   "id": "f8ecbcfd",
   "metadata": {},
   "outputs": [],
   "source": [
    "d = [time.hour + time.minute/60 for time in d]"
   ]
  },
  {
   "cell_type": "code",
   "execution_count": null,
   "id": "a1888c04",
   "metadata": {},
   "outputs": [],
   "source": [
    "fig = matplotlib.pyplot.gcf()\n",
    "fig.set_size_inches(20, 10.5)\n",
    "day_x = day_maxes\n",
    "day_y = d\n",
    "ax = plt.subplot()\n",
    "ax.set_yticks([x for x in range(int(min(d)), int(max(d) + 2))])\n",
    "\n",
    "ax.set_xlabel('роки', fontsize=16)\n",
    "ax.set_ylabel('години', fontsize=16)\n",
    "ax.set_title('Час, коли я прокидалася, залежно від дати', fontsize=20)\n",
    "\n",
    "ax.scatter(day_x, day_y)\n",
    "plt.show()"
   ]
  },
  {
   "cell_type": "markdown",
   "id": "2926b417",
   "metadata": {},
   "source": [
    "Час лягання спати"
   ]
  },
  {
   "cell_type": "code",
   "execution_count": null,
   "id": "1674e142",
   "metadata": {},
   "outputs": [],
   "source": [
    "night_times = []\n",
    "\n",
    "for datetime in datetimes:\n",
    "    if datetime.time() > dt.time(21) or datetime.time() < dt.time(4):\n",
    "        night_times.append(datetime)"
   ]
  },
  {
   "cell_type": "code",
   "execution_count": null,
   "id": "65436d37",
   "metadata": {},
   "outputs": [],
   "source": [
    "night_maxes = []\n",
    "null_date = dt.datetime(2000,1,1).astimezone(timezone('Europe/Kyiv'))\n",
    "for date in dates:\n",
    "    night_maxes.append(null_date)\n",
    "    for night_time in night_times:\n",
    "        if night_time.date() == date or (night_time.date() == tomorrow(date) and night_time.time() < dt.time(4)):\n",
    "            if night_time == max(night_time, night_maxes[-1]):\n",
    "                night_maxes[-1] = night_time\n",
    "    if night_maxes[-1] == null_date:\n",
    "        del night_maxes[-1]"
   ]
  },
  {
   "cell_type": "code",
   "execution_count": null,
   "id": "d98900df",
   "metadata": {},
   "outputs": [],
   "source": [
    "night_maxes = [time for time in night_maxes]"
   ]
  },
  {
   "cell_type": "code",
   "execution_count": null,
   "id": "cc32fd11",
   "metadata": {},
   "outputs": [],
   "source": [
    "# n = night\n",
    "n = [dt.datetime(2000,1,1,time.hour,time.minute,time.second,0).astimezone(timezone('Europe/Kyiv'))\\\n",
    "     if time.time() > dt.time(21)\n",
    "     else dt.datetime(2000,1,2,time.hour,time.minute,time.second,0).astimezone(timezone('Europe/Kyiv'))\\\n",
    "     for time in night_maxes]"
   ]
  },
  {
   "cell_type": "code",
   "execution_count": null,
   "id": "d72539c5",
   "metadata": {},
   "outputs": [],
   "source": [
    "x = pd.Series(n)\n",
    "sleeping_mean = x.pipe(lambda d: (lambda m: m + (d - m).mean())(d.min())).to_pydatetime() # середній час"
   ]
  },
  {
   "cell_type": "code",
   "execution_count": null,
   "id": "fdb8dd3f",
   "metadata": {},
   "outputs": [],
   "source": [
    "sleeping_mean.time() # середній час лягання спати"
   ]
  },
  {
   "cell_type": "code",
   "execution_count": null,
   "id": "9cecc0cc",
   "metadata": {},
   "outputs": [],
   "source": [
    "n = [time.hour + time.minute/60 for time in n]\n",
    "\n",
    "n = [-24+time if time>20 else time for time in n]"
   ]
  },
  {
   "cell_type": "code",
   "execution_count": null,
   "id": "235e1a3f",
   "metadata": {},
   "outputs": [],
   "source": [
    "fig = matplotlib.pyplot.gcf()\n",
    "fig.set_size_inches(20, 10.5)\n",
    "night_x = night_maxes\n",
    "night_y = n\n",
    "ax = plt.subplot()\n",
    "ax.set_yticks([x for x in range(round(min(n)), round(max(n) + 1))])\n",
    "ax.set_yticklabels((\"21\", \"22\",\"23\",\"0\",\"1\",\"2\",\"3\",\"4\"))\n",
    "\n",
    "ax.set_xlabel('роки', fontsize=16)\n",
    "ax.set_ylabel('години', fontsize=16)\n",
    "ax.set_title('Час, коли я лягала спати, залежно від дати', fontsize=20)\n",
    "\n",
    "ax.scatter(night_x, night_y)\n",
    "plt.show()"
   ]
  },
  {
   "cell_type": "markdown",
   "id": "405dd9c7",
   "metadata": {},
   "source": [
    "<a id='sleep2'></a>"
   ]
  },
  {
   "cell_type": "markdown",
   "id": "e7fe8646",
   "metadata": {},
   "source": [
    "### У який час доби я пишу більше, а у який - менше?"
   ]
  },
  {
   "cell_type": "code",
   "execution_count": null,
   "id": "d80b77a3",
   "metadata": {},
   "outputs": [],
   "source": [
    "dates_from_me = df.loc[df['from_id'] == my_id_str, 'date']\n",
    "dates_to_me = df.loc[df['to_id'] == my_id, 'date']\n",
    "\n",
    "dates_from_me = [dt.datetime.fromisoformat(timestamp).astimezone(timezone('Europe/Kyiv'))\n",
    "             for timestamp in dates_from_me]\n",
    "dates_to_me = [dt.datetime.fromisoformat(timestamp).astimezone(timezone('Europe/Kyiv'))\n",
    "             for timestamp in dates_to_me]"
   ]
  },
  {
   "cell_type": "code",
   "execution_count": null,
   "id": "55e4d620",
   "metadata": {},
   "outputs": [],
   "source": [
    "def when_i_write(x, hours):\n",
    "    hour = 0\n",
    "    if x.minute > 30:\n",
    "        hour = x.hour + 1\n",
    "    else: hour = x.hour\n",
    "        \n",
    "    if hour in hours.keys():\n",
    "        hours[hour] += 1\n",
    "    else: hours[hour] = 1"
   ]
  },
  {
   "cell_type": "code",
   "execution_count": null,
   "id": "cc0515c1",
   "metadata": {},
   "outputs": [],
   "source": [
    "hours_from_me = {}\n",
    "hours_to_me = {}\n",
    "\n",
    "for item in dates_from_me:\n",
    "    when_i_write(item, hours_from_me)\n",
    "    \n",
    "for item in dates_to_me:\n",
    "    when_i_write(item, hours_to_me)\n",
    "\n",
    "hours_from_me = dict(sorted(hours_from_me.items(), key=lambda item : item[0]))\n",
    "hours_to_me = dict(sorted(hours_to_me.items(), key=lambda item : item[0]))"
   ]
  },
  {
   "cell_type": "code",
   "execution_count": null,
   "id": "95a0efcc",
   "metadata": {},
   "outputs": [],
   "source": [
    "x_from_me = hours_from_me.keys()\n",
    "y_from_me = hours_from_me.values()\n",
    "\n",
    "x_to_me = hours_to_me.keys()\n",
    "y_to_me = hours_to_me.values()\n",
    "\n",
    "plt.plot(x_from_me,y_from_me)\n",
    "plt.plot(x_to_me,y_to_me)\n",
    "plt.legend(['від мене','до мене'])\n",
    "plt.title('Кількість повідомлень залежно від часу доби')\n",
    "plt.xlabel('година')\n",
    "plt.ylabel('кількість повідомлень')\n",
    "plt.show()"
   ]
  },
  {
   "cell_type": "markdown",
   "id": "40f445dc",
   "metadata": {},
   "source": [
    "<a id='gender'></a>"
   ]
  },
  {
   "cell_type": "markdown",
   "id": "e12b871d",
   "metadata": {},
   "source": [
    "### З ким в мене більше листувань, небінарними людьми, дівчатами чи хлопцями?"
   ]
  },
  {
   "cell_type": "markdown",
   "id": "69e2e3d2",
   "metadata": {},
   "source": [
    "Спочатку треба розмітити дані, ідентифікувати гендер тих, з ким у мене є переписка"
   ]
  },
  {
   "cell_type": "code",
   "execution_count": null,
   "id": "623ff420",
   "metadata": {},
   "outputs": [],
   "source": [
    "genders = ('f', 'n', 'm')"
   ]
  },
  {
   "cell_type": "code",
   "execution_count": null,
   "id": "624c766b",
   "metadata": {},
   "outputs": [],
   "source": [
    "df_meta_w_genders = df_meta.copy()"
   ]
  },
  {
   "cell_type": "code",
   "execution_count": null,
   "id": "8249b21c",
   "metadata": {},
   "outputs": [],
   "source": [
    "df_meta_w_genders['gender'] = [input(f'Гендер людини {df_meta_w_genders.at[num, \"name\"]}: ') \n",
    "                          if df_meta.loc[num, 'type'] == 'Private dialog' \n",
    "                          else None for num in range(len(df_meta_w_genders))]\n",
    "# n - non-binary, f - female, m - male, None - bots and unknown"
   ]
  },
  {
   "cell_type": "code",
   "execution_count": null,
   "id": "6b813963",
   "metadata": {},
   "outputs": [],
   "source": [
    "df_meta.loc[5623, 'gender'] = 'n'"
   ]
  },
  {
   "cell_type": "code",
   "execution_count": null,
   "id": "84d2283c",
   "metadata": {},
   "outputs": [],
   "source": [
    "df_meta_w_genders['gender'] = [None if df_meta_w_genders.loc[num, 'gender'] == 'None'\n",
    "                               else df_meta_w_genders.loc[num, 'gender']\n",
    "                               for num in range(len(df_meta_w_genders))]\n",
    "df_meta = df_meta_w_genders"
   ]
  },
  {
   "cell_type": "code",
   "execution_count": null,
   "id": "2f50a6d0",
   "metadata": {},
   "outputs": [],
   "source": [
    "df_meta.to_csv('../data/merged_data/modified_dialogs_users_all.csv', index = False, encoding='utf-8') "
   ]
  },
  {
   "cell_type": "code",
   "execution_count": null,
   "id": "146fe474",
   "metadata": {},
   "outputs": [],
   "source": [
    "labels = {'f':'Дівчата', 'n':'Небінарні', 'm':'Хлопці'}\n",
    "\n",
    "gender_amounts = {}\n",
    "for gender in genders:\n",
    "    gender_amounts[gender] = df_meta.loc[df_meta['gender'] == gender].shape[0]\n",
    "gender_amounts = dict(sorted(gender_amounts.items(), key=lambda item: item[1], reverse=True))\n",
    "    \n",
    "x = [labels[gender] for gender in gender_amounts.keys()]\n",
    "y = gender_amounts.values()\n",
    "\n",
    "fig = plt.figure()\n",
    "ax = fig.add_axes([0,0,1,1])\n",
    "fig.set_size_inches(3,2)\n",
    "\n",
    "bar = ax.bar(x, y, color='#2ca25f')\n",
    "ax.set_ylabel('кількість переписок')\n",
    "ax.set_title('Кількість переписок за гендерами')\n",
    "\n",
    "ax.bar_label(bar)\n",
    "ax.set_ylim(top=100)\n",
    "\n",
    "plt.show()"
   ]
  },
  {
   "cell_type": "markdown",
   "id": "8783db68",
   "metadata": {},
   "source": [
    "<a id='gender_date'></a>"
   ]
  },
  {
   "cell_type": "markdown",
   "id": "fca19f27",
   "metadata": {},
   "source": [
    "### З ким за гендером в мене більше переписок у який період часу?"
   ]
  },
  {
   "cell_type": "code",
   "execution_count": null,
   "id": "9814a061",
   "metadata": {},
   "outputs": [],
   "source": [
    "messages = {}"
   ]
  },
  {
   "cell_type": "code",
   "execution_count": null,
   "id": "1115aaa8",
   "metadata": {},
   "outputs": [],
   "source": [
    "by_date = {}\n",
    "for gender in genders:\n",
    "    by_date[gender] = df.loc[df['gender'] == gender].copy()\n",
    "    by_date[gender]['date'] = pd.to_datetime(by_date[gender]['date']).dt.date"
   ]
  },
  {
   "cell_type": "code",
   "execution_count": null,
   "id": "bf3dccd5",
   "metadata": {},
   "outputs": [],
   "source": [
    "messages = {}\n",
    "for gender in genders:\n",
    "    messages[gender] = dict(by_date[gender].groupby(['date'])['date'].count())"
   ]
  },
  {
   "cell_type": "code",
   "execution_count": null,
   "id": "cf7e92e0",
   "metadata": {
    "scrolled": false
   },
   "outputs": [],
   "source": [
    "colors = ['#ffa300', '#9b19f5', '#0bb4ff', '#e60049']\n",
    "fig = plt.subplots(figsize =(12,5))\n",
    "\n",
    "counter = 0\n",
    "labels = {'f':'дівчата','n':'небінарні','m':'хлопці'}\n",
    "for gender in genders:\n",
    "    plt.plot(get_x_y(messages[gender])[0], get_x_y(messages[gender])[1], label=labels[gender], \\\n",
    "          color=colors[counter])\n",
    "    counter+=1\n",
    "    \n",
    "plt.legend()\n",
    "plt.title('З ким з гендерів я переписувалася у який час?')\n",
    "plt.show()"
   ]
  },
  {
   "cell_type": "markdown",
   "id": "7c5dbc46",
   "metadata": {},
   "source": [
    "Тут можна поглянути детальніше на період з якоїсь дати"
   ]
  },
  {
   "cell_type": "code",
   "execution_count": null,
   "id": "32dc0e40",
   "metadata": {},
   "outputs": [],
   "source": [
    "def cut_some_dates(x, y, date):\n",
    "    new_dates = []\n",
    "    for item in x:\n",
    "        if item > date:\n",
    "            new_dates.append(item)\n",
    "            \n",
    "    new_messages = y[len(x) - len(new_dates):len(x)]\n",
    "    return new_dates, new_messages"
   ]
  },
  {
   "cell_type": "code",
   "execution_count": null,
   "id": "bf2c7185",
   "metadata": {},
   "outputs": [],
   "source": [
    "new_x = {}\n",
    "new_y = {}\n",
    "\n",
    "for gender in genders:\n",
    "    new_x[gender], new_y[gender] = \\\n",
    "                cut_some_dates(get_x_y(messages2[gender])[0], get_x_y(messages2[gender])[1],\n",
    "                               *тут треба вставити якусь дату, наприклад, dt.date(2021,1,1)*)"
   ]
  },
  {
   "cell_type": "code",
   "execution_count": null,
   "id": "3e8eb888",
   "metadata": {},
   "outputs": [],
   "source": [
    "fig = plt.subplots(figsize =(12,5))\n",
    "\n",
    "counter = 0\n",
    "for gender in genders:\n",
    "    plt.plot(new_x[gender], new_y[gender], label=labels[gender], color=colors[counter])\n",
    "    counter += 1\n",
    "    \n",
    "plt.legend()\n",
    "plt.show()"
   ]
  },
  {
   "cell_type": "markdown",
   "id": "3fb223d8",
   "metadata": {},
   "source": [
    "<a id='language'></a>"
   ]
  },
  {
   "cell_type": "markdown",
   "id": "3a58bbb3",
   "metadata": {},
   "source": [
    "### Якою мовою зазвичай листування?"
   ]
  },
  {
   "cell_type": "code",
   "execution_count": null,
   "id": "079da77c",
   "metadata": {},
   "outputs": [],
   "source": [
    "stanza.download(lang=\"multilingual\")\n",
    "stanza.download(lang=\"uk\")\n",
    "stanza.download(lang=\"en\")\n",
    "stanza.download(lang=\"de\")\n",
    "stanza.download(lang=\"ru\")\n",
    "# Ви можете прибрати мови звідси, додати інші, залежно від того, якими мовами Ви чи Ваше оточення спілкуєтеся"
   ]
  },
  {
   "cell_type": "code",
   "execution_count": null,
   "id": "65d7aa5a",
   "metadata": {},
   "outputs": [],
   "source": [
    "nlp = Pipeline(lang=\"multilingual\", processors=\"langid\",\n",
    "               langid_lang_subset=['uk','en','de','ru']) # тут, відповідно, теж треба замінити мови"
   ]
  },
  {
   "cell_type": "code",
   "execution_count": null,
   "id": "eee7946c",
   "metadata": {},
   "outputs": [],
   "source": [
    "docs = df.loc[df['type'] == 'text', 'message']\n",
    "docs = [Document([], text=text) for text in docs]\n",
    "nlp(docs)\n",
    "df.loc[df['type'] == 'text', 'lang'] = [doc.lang for doc in docs]"
   ]
  },
  {
   "cell_type": "code",
   "execution_count": null,
   "id": "399d462a",
   "metadata": {},
   "outputs": [],
   "source": [
    "df.groupby('lang')['lang'].count()"
   ]
  },
  {
   "cell_type": "code",
   "execution_count": null,
   "id": "e1df1e9d",
   "metadata": {},
   "outputs": [],
   "source": [
    "langs = ['uk','en','de','ru'] # замініть тут на обрані Вами мови спілкування\n",
    "labels = {'uk' : 'українська','en' : 'англійська','de' : 'німецька','ru' : 'російська'}"
   ]
  },
  {
   "cell_type": "code",
   "execution_count": null,
   "id": "fb479cd4",
   "metadata": {},
   "outputs": [],
   "source": [
    "by_date = {}\n",
    "for lang in langs:\n",
    "    by_date[lang] = df.loc[(df['lang'] == lang) & (df['from_id'] == my_id_str)].copy()\n",
    "    by_date[lang]['date'] = pd.to_datetime(by_date[lang]['date']).dt.date\n",
    "    by_date[lang] = dict(by_date[lang].groupby(['date'])['date'].count())"
   ]
  },
  {
   "cell_type": "code",
   "execution_count": null,
   "id": "90316345",
   "metadata": {
    "scrolled": false
   },
   "outputs": [],
   "source": [
    "colors = ['#e60049','#0bb4ff','#9b19f5','#ffa300']\n",
    "fig = plt.subplots(figsize =(12,5))\n",
    "\n",
    "counter = 0\n",
    "for lang in reversed(langs):\n",
    "    plt.plot(get_x_y(by_date[lang])[0], get_x_y(by_date[lang])[1], label=lang, \\\n",
    "          color=colors[counter])\n",
    "    counter += 1\n",
    "\n",
    "plt.legend()\n",
    "plt.title('Кількість повідомлень різними мовами залежно від часу')\n",
    "plt.show()"
   ]
  },
  {
   "cell_type": "code",
   "execution_count": null,
   "id": "e230ffd9",
   "metadata": {},
   "outputs": [],
   "source": [
    "def draw_plot(x, y, ax, color, title=None, fontsize=12):\n",
    "    ax.scatter(x, y, color=color, s=7)\n",
    "    \n",
    "    ax.set_xlabel('дата', fontsize=fontsize/1.2)\n",
    "    ax.set_ylabel('повідомлення', fontsize=fontsize/1.2)\n",
    "    ax.set_xticks([dt.date(2020,1,1), dt.date(2021,1,1), dt.date(2022,1,1), dt.date(2023,1,1)])\n",
    "    ax.set_xticklabels((\"2020\", \"2021\",\"2022\",\"2023\"))\n",
    "    ax.set_title(title, fontsize=fontsize)"
   ]
  },
  {
   "cell_type": "code",
   "execution_count": null,
   "id": "187457eb",
   "metadata": {},
   "outputs": [],
   "source": [
    "colors = ['#e60049','#0bb4ff','#9b19f5','#ffa300'] # кількість кольорів має збігатися з кількістю мов\n",
    "axes = [x for x in range(len(colors))]\n",
    "fig, ((axes[0], axes[1]), (axes[2], axes[3])) = plt.subplots(nrows=2, ncols=2, figsize=(10, 6))\n",
    "# кількість осей (axes) теж має збігатися з кількістю мов\n",
    "\n",
    "counter = 0\n",
    "for lang in langs:\n",
    "    draw_plot(get_x_y(by_date[lang])[0], get_x_y(by_date[lang])[1], axes[counter],\\\n",
    "              title=labels[lang], color=colors[counter])\n",
    "    counter += 1\n",
    "    \n",
    "\n",
    "plt.suptitle('Кількість повідомлень різними мовами залежно від часу')\n",
    "plt.tight_layout()"
   ]
  },
  {
   "cell_type": "markdown",
   "id": "37c36de3",
   "metadata": {},
   "source": [
    "<a id='who_writes_more'></a>"
   ]
  },
  {
   "cell_type": "markdown",
   "id": "d44262cd",
   "metadata": {},
   "source": [
    "### Хто пише більше під час переписки, я чи людина, з якою я розмовляю?"
   ]
  },
  {
   "cell_type": "markdown",
   "id": "92e60184",
   "metadata": {},
   "source": [
    "За одну переписку умовно взято один день, оскільки важко визначити точно, які повідомлення стосуються однієі перписки, а які вже наледать до іншої, тому що між повідомленнями однієі розмови може бути від кількох хвилин до кількох годин"
   ]
  },
  {
   "cell_type": "code",
   "execution_count": null,
   "id": "edaafb52",
   "metadata": {},
   "outputs": [],
   "source": [
    "private = df.loc[df['dialog_type'] == 'Private dialog'].copy()"
   ]
  },
  {
   "cell_type": "code",
   "execution_count": null,
   "id": "3193821b",
   "metadata": {},
   "outputs": [],
   "source": [
    "private['date'] = private['date'].apply(lambda x: dt.datetime.fromisoformat(x).astimezone(timezone('Europe/Kyiv')))"
   ]
  },
  {
   "cell_type": "code",
   "execution_count": null,
   "id": "c26c6765",
   "metadata": {},
   "outputs": [],
   "source": [
    "private = private.loc[(private['gender'] == 'f') | (private['gender'] == 'n') | (private['gender'] == 'm')]"
   ]
  },
  {
   "cell_type": "code",
   "execution_count": null,
   "id": "b59335ed",
   "metadata": {},
   "outputs": [],
   "source": [
    "private.rename(columns={'date': 'datetime'}, inplace=True)\n",
    "\n",
    "private['date'] = private['datetime'].apply(lambda x: x.date())"
   ]
  },
  {
   "cell_type": "code",
   "execution_count": null,
   "id": "76f17b84",
   "metadata": {},
   "outputs": [],
   "source": [
    "dates = unique(list(private['date']))"
   ]
  },
  {
   "cell_type": "code",
   "execution_count": null,
   "id": "8a00796a",
   "metadata": {},
   "outputs": [],
   "source": [
    "counter_me = 0\n",
    "counter_others = 0\n",
    "\n",
    "for date in dates:\n",
    "    one_day = morning.loc[morning['date'] == date]\n",
    "    ids = unique(list(one_day['dialog_id']))\n",
    "    for id in ids:\n",
    "        one_chat = one_day.loc[one_day['dialog_id'] == id]\n",
    "        message = one_chat[one_chat['datetime'] == one_day['datetime'].min()].reset_index()\n",
    "        if message.size > 0:\n",
    "            from_id = message.loc[0, 'from_id']\n",
    "            if from_id == my_id_str:\n",
    "                counter_me += 1\n",
    "            else: counter_others += 1"
   ]
  },
  {
   "cell_type": "code",
   "execution_count": null,
   "id": "7c06bbd9",
   "metadata": {},
   "outputs": [],
   "source": [
    "counter_me = counter_others = 0\n",
    "chat_counter = 0\n",
    "\n",
    "for date in dates:\n",
    "    one_day = private.loc[(private['date'] == date)]\n",
    "    ids = unique(list(one_day['dialog_id']))\n",
    "    chat_counter += len(ids)\n",
    "    for id in ids:\n",
    "        one_chat = one_day.loc[one_day['dialog_id'] == id]\n",
    "        from_me = one_day.loc[one_day['from_id'] == my_id_str]\n",
    "        counter_me += from_me.shape[0]\n",
    "        \n",
    "        from_others = one_day.loc[one_day['from_id'] != my_id_str]\n",
    "        counter_others += from_others.shape[0]\n",
    "    \n",
    "mean_me = counter_me / chat_counter\n",
    "mean_others = counter_others / chat_counter"
   ]
  },
  {
   "cell_type": "code",
   "execution_count": null,
   "id": "a0e444d2",
   "metadata": {},
   "outputs": [],
   "source": [
    "fig = plt.figure()\n",
    "ax = fig.add_axes([0,0,1,1])\n",
    "fig.set_size_inches(3,2)\n",
    "x = ['Я', 'Інші']\n",
    "y = [mean_me, mean_others]\n",
    "bar = ax.bar(x,y)\n",
    "plt.title(\"Хто більше пише повідомлень за день?\")\n",
    "plt.ylabel('кількість повідомлень')\n",
    "ax.bar_label(bar, fontsize=9)\n",
    "ax.set_ylim(top=220)\n",
    "plt.show()"
   ]
  },
  {
   "cell_type": "markdown",
   "id": "36e52d5c",
   "metadata": {},
   "source": [
    "<a id='who_writes_first'></a>"
   ]
  },
  {
   "cell_type": "markdown",
   "id": "f023f6ba",
   "metadata": {},
   "source": [
    "### Хто частіше пише першою, я чи людина, з якою я розмовляю?"
   ]
  },
  {
   "cell_type": "code",
   "execution_count": null,
   "id": "f1385a22",
   "metadata": {},
   "outputs": [],
   "source": [
    "private['isMorning'] = private['datetime'].apply(lambda x: x.hour >= 4)\n",
    "morning = private.loc[private['isMorning'] == True]"
   ]
  },
  {
   "cell_type": "code",
   "execution_count": null,
   "id": "73f2e0d1",
   "metadata": {},
   "outputs": [],
   "source": [
    "dates = unique([datetime for datetime in morning['date']])"
   ]
  },
  {
   "cell_type": "code",
   "execution_count": null,
   "id": "20d81431",
   "metadata": {},
   "outputs": [],
   "source": [
    "counter_me = 0\n",
    "counter_others = 0\n",
    "\n",
    "for date in dates:\n",
    "    one_day = morning.loc[morning['date'] == date]\n",
    "    ids = unique(list(one_day['dialog_id']))\n",
    "    for id in ids:\n",
    "        one_chat = one_day.loc[one_day['dialog_id'] == id]\n",
    "        message = one_chat[one_chat['datetime'] == one_day['datetime'].min()].reset_index()\n",
    "        if message.size > 0:\n",
    "            if message.loc[0, 'from_id'] == my_id_str:\n",
    "                counter_me += 1\n",
    "            else: counter_others += 1"
   ]
  },
  {
   "cell_type": "code",
   "execution_count": null,
   "id": "4f261660",
   "metadata": {},
   "outputs": [],
   "source": [
    "fig = plt.figure()\n",
    "ax = fig.add_axes([0,0,1,1])\n",
    "fig.set_size_inches(3,2)\n",
    "x = ['Я', 'Інші']\n",
    "y = [counter_me, counter_others]\n",
    "bar = ax.bar(x,y)\n",
    "plt.title(\"Хто частіше пише першим?\")\n",
    "plt.ylabel('кількість повідомлень')\n",
    "ax.bar_label(bar, fontsize=9)\n",
    "ax.set_ylim(top=450)\n",
    "plt.show()"
   ]
  },
  {
   "cell_type": "markdown",
   "id": "b45d3085",
   "metadata": {},
   "source": [
    "<a id='topics'></a>"
   ]
  },
  {
   "cell_type": "markdown",
   "id": "88da1c7d",
   "metadata": {},
   "source": [
    "### Які теми зазвичай у переписках?"
   ]
  },
  {
   "cell_type": "markdown",
   "id": "10379b46",
   "metadata": {},
   "source": [
    "Спочатку потрібно нормалізувати повідомлення"
   ]
  },
  {
   "cell_type": "code",
   "execution_count": null,
   "id": "9ffa1961",
   "metadata": {},
   "outputs": [],
   "source": [
    "stopwords_ua = pd.read_csv(r\"Ukrainian-Stopwords\\stopwords_ua.txt\", header=None, names=['stopwords'])\n",
    "stop_words_ua = list(stopwords_ua.stopwords)"
   ]
  },
  {
   "cell_type": "code",
   "execution_count": null,
   "id": "971731ec",
   "metadata": {},
   "outputs": [],
   "source": [
    "stanza.download('uk')"
   ]
  },
  {
   "cell_type": "code",
   "execution_count": null,
   "id": "876ec64c",
   "metadata": {
    "scrolled": false
   },
   "outputs": [],
   "source": [
    "nlp = stanza.Pipeline('uk', processors='tokenize,mwt,pos,lemma,ner')"
   ]
  },
  {
   "cell_type": "code",
   "execution_count": null,
   "id": "e3622d1a",
   "metadata": {},
   "outputs": [],
   "source": [
    "def get_lemmas(text):\n",
    "    doc = nlp(text)\n",
    "    lemmas = [word.lemma for sent in doc.sentences for word in sent.words if word.lemma not in stop_words_ua \n",
    "            if word.lemma not in string.punctuation]\n",
    "    return lemmas"
   ]
  },
  {
   "cell_type": "code",
   "execution_count": null,
   "id": "381d8ea2",
   "metadata": {},
   "outputs": [],
   "source": [
    "all_private_ids = list(df_meta.loc[(df_meta['type'] == 'Private dialog')\\\n",
    "                      & ((df_meta['gender'] == 'f') | (df_meta['gender'] == 'n') | (df_meta['gender'] == 'm')),\\\n",
    "                                   'dialog_id'])"
   ]
  },
  {
   "cell_type": "code",
   "execution_count": null,
   "id": "088e8ce5",
   "metadata": {},
   "outputs": [],
   "source": [
    "def get_normalized_messages(name):\n",
    "    try:\n",
    "        id = get_id(name)\n",
    "        messages_df = get_messages(id)['message']\n",
    "        normalized_messages = []\n",
    "        for message in messages_df:\n",
    "            lemmas = get_lemmas(message)\n",
    "            normalized_message = ' '.join(lemmas)\n",
    "            normalized_messages.append(normalized_message)\n",
    "        return normalized_messages\n",
    "    except Exception as e:\n",
    "        print(\"ERROR : \"+str(e))"
   ]
  },
  {
   "cell_type": "code",
   "execution_count": null,
   "id": "c131d6ce",
   "metadata": {},
   "outputs": [],
   "source": [
    "normalized_messages = {}"
   ]
  },
  {
   "cell_type": "code",
   "execution_count": null,
   "id": "764bd939",
   "metadata": {
    "scrolled": true
   },
   "outputs": [],
   "source": [
    "for id in all_private_ids:\n",
    "    if get_messages(id).shape[0] > 20:\n",
    "        name = df_meta.loc[df_meta['dialog_id'] == id].reset_index().loc[0,'name']\n",
    "        normalized_messages[name] = get_normalized_messages(id)"
   ]
  },
  {
   "cell_type": "markdown",
   "id": "a95bb532",
   "metadata": {},
   "source": [
    "Записую нормалізовані повідомлення у файли, щоб не витрачати щоразу час на завантаження"
   ]
  },
  {
   "cell_type": "code",
   "execution_count": null,
   "id": "ab58aacd",
   "metadata": {},
   "outputs": [],
   "source": [
    "for id in all_private_ids:\n",
    "    if get_messages(id).shape[0] > 20:\n",
    "        name = df_meta.loc[df_meta['dialog_id'] == id].reset_index().loc[0,'name']\n",
    "        with open(f'normalized_messages/{name}_messages.txt', 'w') as f:\n",
    "            f.write(json.dumps(normalized_messages[name]))"
   ]
  },
  {
   "cell_type": "markdown",
   "id": "e5c538bf",
   "metadata": {},
   "source": [
    "Завантажую з файлів листування"
   ]
  },
  {
   "cell_type": "code",
   "execution_count": null,
   "id": "39ffca5b",
   "metadata": {},
   "outputs": [],
   "source": [
    "for id in all_private_ids:\n",
    "    if get_messages(id).shape[0] > 20:\n",
    "        name = df_meta.loc[df_meta['dialog_id'] == id].reset_index().loc[0,'name']\n",
    "        with open(f'normalized_messages/{name}_messages.txt', 'r') as f:\n",
    "            normalized_messages[name] = json.loads(f.read())"
   ]
  },
  {
   "cell_type": "markdown",
   "id": "d3b1b794",
   "metadata": {},
   "source": [
    "Додаю отримані дані (нормалізовані повідомлення) у головну таблицю"
   ]
  },
  {
   "cell_type": "code",
   "execution_count": null,
   "id": "de871875",
   "metadata": {
    "scrolled": true
   },
   "outputs": [],
   "source": [
    "for id in all_private_ids:\n",
    "    if get_messages(id).shape[0] > 20:\n",
    "        name = df_meta.loc[df_meta['dialog_id'] == id].reset_index().loc[0,'name']\n",
    "        df.loc[(df['dialog_name'] == name) & (df['type'] == 'text'), 'normalized']\\\n",
    "        = normalized_messages[name]"
   ]
  },
  {
   "cell_type": "code",
   "execution_count": null,
   "id": "49716d3e",
   "metadata": {},
   "outputs": [],
   "source": [
    "vectorizer = TfidfVectorizer()\n",
    "vec_matrix = vectorizer.fit_transform(df.loc[df['normalized'] == df['normalized'], 'normalized'])"
   ]
  },
  {
   "cell_type": "code",
   "execution_count": null,
   "id": "fef92b51",
   "metadata": {},
   "outputs": [],
   "source": [
    "print(vec_matrix.shape)\n",
    "terms = vectorizer.get_feature_names()"
   ]
  },
  {
   "cell_type": "code",
   "execution_count": null,
   "id": "4b41b35e",
   "metadata": {},
   "outputs": [],
   "source": [
    "n_clusters = 100\n",
    "\n",
    "km = KMeans(n_clusters=n_clusters)\n",
    "km.fit(vec_matrix)"
   ]
  },
  {
   "cell_type": "code",
   "execution_count": null,
   "id": "dd54fcf9",
   "metadata": {},
   "outputs": [],
   "source": [
    "clusters = km.labels_.tolist()\n",
    "df.loc[df['normalized'] == df['normalized'], 'cluster'] = clusters"
   ]
  },
  {
   "cell_type": "code",
   "execution_count": null,
   "id": "cea82ebe",
   "metadata": {},
   "outputs": [],
   "source": [
    "print(\"Топ слова у кластері:\")\n",
    "print()\n",
    "\n",
    "order_centroids = km.cluster_centers_.argsort()[:, ::-1] \n",
    "\n",
    "for i in range(n_clusters):\n",
    "    print(f'Кластер {i} слова:', end='')\n",
    "    \n",
    "    for ind in order_centroids[i, :6]:\n",
    "        print(f' {terms[ind]}', end=',')\n",
    "        \n",
    "    print() \n",
    "    print() \n",
    "    \n",
    "    print(f'Кластер {i} назви:' )\n",
    "    print(str(len(df.loc[df['cluster'] == i]['message'].values.tolist())) + ' - всього')\n",
    "    print()\n",
    "    \n",
    "print()\n",
    "print()"
   ]
  },
  {
   "cell_type": "markdown",
   "id": "1aba70d2",
   "metadata": {},
   "source": [
    "<a id='friends'></a>"
   ]
  },
  {
   "cell_type": "markdown",
   "id": "3751d56e",
   "metadata": {},
   "source": [
    "## Аналіз переписок з друзями"
   ]
  },
  {
   "cell_type": "markdown",
   "id": "f54cc779",
   "metadata": {},
   "source": [
    "Ви можете обрати 4 переписки, щоб проаналізувати їх"
   ]
  },
  {
   "cell_type": "markdown",
   "id": "50c0ab9b",
   "metadata": {},
   "source": [
    "Записуємо їхні id, оскільки вони знадобляться пізніше"
   ]
  },
  {
   "cell_type": "code",
   "execution_count": null,
   "id": "c513b038",
   "metadata": {},
   "outputs": [],
   "source": [
    "ids = {}\n",
    "\n",
    "# запишіть тут ID чотирьох переписок, які Ви обрали\n",
    "\n",
    "# приклад\n",
    "ids['artem'] = get_id('^Артем')"
   ]
  },
  {
   "cell_type": "code",
   "execution_count": null,
   "id": "8a329081",
   "metadata": {},
   "outputs": [],
   "source": [
    "names = ['artem'] # запишіть сюди імена людей, яких Ви обрали"
   ]
  },
  {
   "cell_type": "code",
   "execution_count": null,
   "id": "c81bc033",
   "metadata": {},
   "outputs": [],
   "source": [
    "labels = {'artem':'Артем'}"
   ]
  },
  {
   "cell_type": "markdown",
   "id": "a8a4bc2e",
   "metadata": {},
   "source": [
    "<a id='words'></a>"
   ]
  },
  {
   "cell_type": "markdown",
   "id": "8305357e",
   "metadata": {},
   "source": [
    "### Які найбільш використовувані слова в листуванні?"
   ]
  },
  {
   "cell_type": "markdown",
   "id": "86641910",
   "metadata": {},
   "source": [
    "Спочатку робимо з усіх повідомлень один рядок"
   ]
  },
  {
   "cell_type": "code",
   "execution_count": null,
   "id": "e2506fd4",
   "metadata": {},
   "outputs": [],
   "source": [
    "# у функцію можна передавати як нікнейм або його частину, використовуючи regular expressions, так і id діалогу\n",
    "def word_frequencies(name):\n",
    "    try:\n",
    "        id = get_id(name)\n",
    "        messages_df = get_messages(id)\n",
    "        text = ' '.join(messages_df['message'])\n",
    "        lemmas = get_lemmas(text)\n",
    "        fdist = FreqDist(lemmas)\n",
    "        sorted_fdist = sorted(fdist.items(), key=lambda x:x[1], reverse=True)\n",
    "        return sorted_fdist\n",
    "    except Exception as e:\n",
    "        print(\"ERROR : \"+str(e))"
   ]
  },
  {
   "cell_type": "code",
   "execution_count": null,
   "id": "4ed5fbd3",
   "metadata": {},
   "outputs": [],
   "source": [
    "fdists = {}\n",
    "for name in names:\n",
    "    fdists[name] = word_frequencies(ids[name])"
   ]
  },
  {
   "cell_type": "markdown",
   "id": "d67eb812",
   "metadata": {},
   "source": [
    "Записуємо ці дані про переписки у файли, щоб потім можна було легко їх отримати, не чекаючи нової обробки повідомлень"
   ]
  },
  {
   "cell_type": "code",
   "execution_count": null,
   "id": "c0c2831f",
   "metadata": {},
   "outputs": [],
   "source": [
    "for name in names:\n",
    "    with open(f'fdists/{name}_fdist.txt', 'w') as f:\n",
    "        f.write(json.dumps(fdists[name])) "
   ]
  },
  {
   "cell_type": "markdown",
   "id": "17c02290",
   "metadata": {},
   "source": [
    "Завантажуємо збережені дані з файлів"
   ]
  },
  {
   "cell_type": "code",
   "execution_count": null,
   "id": "f7e6be6b",
   "metadata": {},
   "outputs": [],
   "source": [
    "fdists = {}\n",
    "for name in names:\n",
    "    with open(f'fdists/{name}_fdist.txt', 'r') as f:\n",
    "        fdists[name] = json.loads(f.read())     "
   ]
  },
  {
   "cell_type": "code",
   "execution_count": null,
   "id": "8a4a9aa1",
   "metadata": {},
   "outputs": [],
   "source": [
    "def words(fdist):\n",
    "    return [i[0] for i in fdist]\n",
    "\n",
    "def numbers(fdist):\n",
    "    return [i[1] for i in fdist]"
   ]
  },
  {
   "cell_type": "code",
   "execution_count": null,
   "id": "e8d104c9",
   "metadata": {},
   "outputs": [],
   "source": [
    "fdist_words = {}\n",
    "fdist_numbers = {}"
   ]
  },
  {
   "cell_type": "code",
   "execution_count": null,
   "id": "e33736a9",
   "metadata": {},
   "outputs": [],
   "source": [
    "for name in names:\n",
    "    fdist_words[name] = words(fdists[name])\n",
    "    fdist_numbers[name] = numbers(fdists[name])"
   ]
  },
  {
   "cell_type": "code",
   "execution_count": null,
   "id": "b4f0641f",
   "metadata": {
    "scrolled": false
   },
   "outputs": [],
   "source": [
    "fig, axs = plt.subplots(2, 2, figsize=(9,5))\n",
    "n = 10 # перші n слів будуть показані на графіку\n",
    "\n",
    "colors = ['#ffa300', '#0bb4ff','#9b19f5', '#e60049']\n",
    "axes = [axs[0, 0], axs[0, 1], axs[1, 0], axs[1, 1]]\n",
    "counter = 0\n",
    "for name in names:\n",
    "    axes[counter].barh(fdist_words[name][0:n][::-1],fdist_numbers[name][0:n][::-1], color=colors[counter])\n",
    "    axes[counter].set_title(labels[name])\n",
    "    counter += 1\n",
    "    \n",
    "plt.suptitle('Які найбільш використовувані слова в листуванні?')\n",
    "fig.tight_layout()"
   ]
  },
  {
   "cell_type": "markdown",
   "id": "13a1a1f4",
   "metadata": {},
   "source": [
    "<a id='bigrams'></a>"
   ]
  },
  {
   "cell_type": "markdown",
   "id": "52f9be5d",
   "metadata": {},
   "source": [
    "### А якими є найбільш використовувані пари слів?"
   ]
  },
  {
   "cell_type": "code",
   "execution_count": null,
   "id": "5d32c01e",
   "metadata": {},
   "outputs": [],
   "source": [
    "messages = {}\n",
    "\n",
    "for name in names:\n",
    "    messages[name] = get_messages(ids[name])"
   ]
  },
  {
   "cell_type": "code",
   "execution_count": null,
   "id": "5790c8ce",
   "metadata": {},
   "outputs": [],
   "source": [
    "def ngrams(messages):\n",
    "    c_vec = CountVectorizer(ngram_range=(2,2))\n",
    "    ngrams = c_vec.fit_transform(messages)\n",
    "    count_values = ngrams.toarray().sum(axis=0)\n",
    "    vocab = c_vec.vocabulary_\n",
    "    df_ngram = pd.DataFrame(sorted([(count_values[i],k) for k,i in vocab.items()], reverse=True)\n",
    "                           ).rename(columns={0: 'frequency', 1:'bigram'})\n",
    "    return df_ngram"
   ]
  },
  {
   "cell_type": "code",
   "execution_count": null,
   "id": "bed768a8",
   "metadata": {},
   "outputs": [],
   "source": [
    "bigrams = {}\n",
    "\n",
    "for name in names:\n",
    "    bigrams[name] = ngrams((messages[name]['message'].values.astype('U')))"
   ]
  },
  {
   "cell_type": "code",
   "execution_count": null,
   "id": "493fa76a",
   "metadata": {},
   "outputs": [],
   "source": [
    "fig, axs = plt.subplots(2, 2, figsize=(9,5))\n",
    "n = 10\n",
    "\n",
    "colors = ['#952CC2', '#CD34B5', '#EA5F94', '#FA8775']\n",
    "axes = [axs[0, 0], axs[0, 1], axs[1, 0], axs[1, 1]]\n",
    "counter = 0\n",
    "for name in names:\n",
    "    axes[counter].barh(bigrams[name][0:n][::-1],bigrams[name][0:n][::-1], color=colors[counter])\n",
    "    axes[counter].set_title(labels[name])\n",
    "    counter += 1\n",
    "\n",
    "plt.suptitle('Які найбільш використовувані пари слів в листуванні?')\n",
    "fig.tight_layout()"
   ]
  },
  {
   "cell_type": "code",
   "execution_count": null,
   "id": "d0e679fa",
   "metadata": {},
   "outputs": [],
   "source": [
    "def get_bigrams(bigrams_fdist, words):\n",
    "    return [int(bigrams_fdist.loc[bigrams_fdist['bigram'] == word]['frequency']) for word in words]"
   ]
  },
  {
   "cell_type": "code",
   "execution_count": null,
   "id": "a1dc39bd",
   "metadata": {},
   "outputs": [],
   "source": [
    "words = ['не знаю', 'ну типу', 'все одно'] # тут можна вставити власні пари слів"
   ]
  },
  {
   "cell_type": "code",
   "execution_count": null,
   "id": "34c7b374",
   "metadata": {},
   "outputs": [],
   "source": [
    "barWidth = 0.2\n",
    "fig = plt.subplots(figsize =(8, 4))\n",
    "\n",
    "brs = []\n",
    "brs.append(np.arange(len(words)))\n",
    "for i in range(1,4):\n",
    "    brs.append([x + barWidth for x in brs[i-1]])\n",
    "    \n",
    "colors = ['#58508d', '#bc5090', '#ff6361', '#ffa600']\n",
    "\n",
    "for i in range(4):\n",
    "    plt.bar(brs[i], get_bigrams(bigrams[names[i]], words), width = barWidth,\n",
    "            color=colors[i], label =labels[names[i]])\n",
    "\n",
    "plt.xlabel('біграма', fontweight ='bold', fontsize = 10)\n",
    "plt.ylabel('кількість повідомлень', fontweight ='bold', fontsize = 10)\n",
    "plt.xticks([r + barWidth for r in range(len(words))],\n",
    "words)\n",
    "\n",
    "plt.title('Кількість використання окремих слів')\n",
    "plt.legend()\n",
    "plt.show()"
   ]
  },
  {
   "cell_type": "markdown",
   "id": "11058804",
   "metadata": {},
   "source": [
    "<a id='studying'></a>"
   ]
  },
  {
   "cell_type": "markdown",
   "id": "ebdd8d97",
   "metadata": {},
   "source": [
    "### Частота використання певних слів"
   ]
  },
  {
   "cell_type": "code",
   "execution_count": null,
   "id": "72f19115",
   "metadata": {},
   "outputs": [],
   "source": [
    "def find_words(fdist, words):\n",
    "    try:\n",
    "        return [dict(fdist)[word] if word in dict(fdist) else 0 for word in words]\n",
    "    except Exception as e:\n",
    "        print(\"ERROR : \"+str(e))"
   ]
  },
  {
   "cell_type": "code",
   "execution_count": null,
   "id": "96b9dfff",
   "metadata": {},
   "outputs": [],
   "source": [
    "def find_words_in_chats(words_to_find):    \n",
    "    barWidth = 0.2\n",
    "    fig = plt.subplots(figsize =(8, 4))\n",
    "\n",
    "    brs = []\n",
    "    brs.append(np.arange(len(words_to_find)))\n",
    "    for i in range(1,4):\n",
    "        brs.append([x + barWidth for x in brs[i-1]])\n",
    "    \n",
    "    colors = ['#58508d', '#bc5090', '#ff6361', '#ffa600']\n",
    "\n",
    "    for i in range(4):\n",
    "        plt.bar(brs[i], find_words(fdists[names[i]], words_to_find), width = barWidth,\n",
    "            color =colors[i], label =labels[names[i]])\n",
    "\n",
    "    plt.xlabel('слово', fontweight ='bold', fontsize = 10)\n",
    "    plt.ylabel('кількість повідомлень', fontweight ='bold', fontsize = 10)\n",
    "    plt.xticks([r + barWidth for r in range(len(words_to_find))], words_to_find)\n",
    "\n",
    "    title = f\"Використання слів \"\n",
    "    for i in range(len(words_to_find) - 1):\n",
    "        title += f\"'{words_to_find[i]}', \"\n",
    "    title += f\"'{words_to_find[-1]}'\"\n",
    "    \n",
    "    plt.title(title)\n",
    "    plt.legend()\n",
    "    plt.show()"
   ]
  },
  {
   "cell_type": "code",
   "execution_count": null,
   "id": "5bdc5fcd",
   "metadata": {},
   "outputs": [],
   "source": [
    "# приклад\n",
    "find_words_in_chats(['семінар', 'лекція', 'колоквіум', 'пара'])"
   ]
  },
  {
   "cell_type": "markdown",
   "id": "e622b1a4",
   "metadata": {},
   "source": [
    "<a id='emojis'></a>"
   ]
  },
  {
   "cell_type": "markdown",
   "id": "7c6d9adf",
   "metadata": {},
   "source": [
    "### Погляньмо на найбільш використовувані смайлики"
   ]
  },
  {
   "cell_type": "code",
   "execution_count": null,
   "id": "e730c009",
   "metadata": {},
   "outputs": [],
   "source": [
    "def get_emojis(fdist_words):\n",
    "    emojis = [word if word in emoji.EMOJI_DATA else None for word in fdist_words]\n",
    "    emojis = list(dict.fromkeys(emojis)) # видаляємо елементи зі значенням None\n",
    "    return emojis"
   ]
  },
  {
   "cell_type": "code",
   "execution_count": null,
   "id": "7c2c514c",
   "metadata": {},
   "outputs": [],
   "source": [
    "emojis = {}\n",
    "for name in names:\n",
    "    emojis[name] = get_emojis(fdist_words[name])[1:]"
   ]
  },
  {
   "cell_type": "code",
   "execution_count": null,
   "id": "b78585e9",
   "metadata": {},
   "outputs": [],
   "source": [
    "for name, value in emojis.items():\n",
    "    print(name, len(value))"
   ]
  },
  {
   "cell_type": "code",
   "execution_count": null,
   "id": "9df40e78",
   "metadata": {},
   "outputs": [],
   "source": [
    "num = 5\n",
    "for name in names:\n",
    "    print(labels[name])\n",
    "    print(emojis[name][0:num])"
   ]
  },
  {
   "cell_type": "markdown",
   "id": "7d8a457d",
   "metadata": {},
   "source": [
    "<a id='emojis2'></a>"
   ]
  },
  {
   "cell_type": "markdown",
   "id": "9c49e752",
   "metadata": {},
   "source": [
    "### Які смайликі трапляються в усіх 4 чатах?"
   ]
  },
  {
   "cell_type": "code",
   "execution_count": null,
   "id": "bc80cc23",
   "metadata": {
    "scrolled": true
   },
   "outputs": [],
   "source": [
    "sets = {}\n",
    "\n",
    "for name in names:\n",
    "    sets[name] = set(x[0] for x in fdists[name])\n",
    "\n",
    "common_words = []\n",
    "for name in sets[\"вставте тут 1 ім'я з names\"].intersection(sets[\"вставте тут 2 ім'я з names\"]).\\\n",
    "intersection(sets[\"вставте тут 3 ім'я з names\"]).intersection(sets[\"вставте тут 4 ім'я з names\"]):\n",
    "    common_words.append(name)\n",
    "    \n",
    "common_words"
   ]
  },
  {
   "cell_type": "markdown",
   "id": "8512cd52",
   "metadata": {},
   "source": [
    "Нижче наведені смайлики, спільні для всіх 4 переписок"
   ]
  },
  {
   "cell_type": "code",
   "execution_count": null,
   "id": "96490e46",
   "metadata": {
    "scrolled": false
   },
   "outputs": [],
   "source": [
    "for word in common_words:\n",
    "    if word in emoji.EMOJI_DATA:\n",
    "        print(word)\n",
    "    else: print('', end=' ')"
   ]
  },
  {
   "cell_type": "markdown",
   "id": "4167a5be",
   "metadata": {},
   "source": [
    "<a id='emojis3'></a>"
   ]
  },
  {
   "cell_type": "markdown",
   "id": "89aa237a",
   "metadata": {},
   "source": [
    "### Яких смайликів більше: позитивних чи негативних?"
   ]
  },
  {
   "cell_type": "code",
   "execution_count": null,
   "id": "a570c113",
   "metadata": {},
   "outputs": [],
   "source": [
    "all_emojis = []\n",
    "for name in names:\n",
    "    all_emojis.extend(emojis[name])"
   ]
  },
  {
   "cell_type": "code",
   "execution_count": null,
   "id": "31f40f8b",
   "metadata": {},
   "outputs": [],
   "source": [
    "all_emojis = unique(all_emojis)"
   ]
  },
  {
   "cell_type": "markdown",
   "id": "0c0ccd99",
   "metadata": {},
   "source": [
    "Робимо розмітку даних, даємо кожному емоджі значення емоційної забарвленості"
   ]
  },
  {
   "cell_type": "code",
   "execution_count": null,
   "id": "60938c01",
   "metadata": {},
   "outputs": [],
   "source": [
    "emoji_sensitivity = []\n",
    "\n",
    "def set_sensitivity(emojis):\n",
    "    return [int(input(f'Емоційне забарвлення смайлика {emojis[num]}: ')) if emojis[num] not in emoji_sensitivity\n",
    "            else None for num in range(len(emojis))]\n",
    "\n",
    "# 1 - positive, -1 - negative, 0 - neutral"
   ]
  },
  {
   "cell_type": "code",
   "execution_count": null,
   "id": "64db06ff",
   "metadata": {
    "scrolled": true
   },
   "outputs": [],
   "source": [
    "emoji_sensitivity = set_sensitivity(all_emojis)"
   ]
  },
  {
   "cell_type": "code",
   "execution_count": null,
   "id": "b6e006da",
   "metadata": {},
   "outputs": [],
   "source": [
    "emojis_with_sense = dict(zip(all_emojis, emoji_sensitivity))"
   ]
  },
  {
   "cell_type": "code",
   "execution_count": null,
   "id": "88599187",
   "metadata": {},
   "outputs": [],
   "source": [
    "with open('emojis_with_sensitivity.txt', 'w') as file:\n",
    "     file.write(json.dumps(emojis_with_sense))"
   ]
  },
  {
   "cell_type": "code",
   "execution_count": null,
   "id": "a62f7c03",
   "metadata": {},
   "outputs": [],
   "source": [
    "with open('emojis_with_sensitivity.txt', 'r') as f:\n",
    "    emojis_with_sense = json.loads(f.read())"
   ]
  },
  {
   "cell_type": "code",
   "execution_count": null,
   "id": "2cc816ee",
   "metadata": {},
   "outputs": [],
   "source": [
    "# емоція одного рядка\n",
    "def get_emotions(phrase):\n",
    "    emotions_sum = 0\n",
    "    for char in phrase:\n",
    "        if char in emojis_with_sense.keys():\n",
    "            emotions_sum +=  emojis_with_sense[char]\n",
    "    return emotions_sum"
   ]
  },
  {
   "cell_type": "code",
   "execution_count": null,
   "id": "2f88e4f0",
   "metadata": {},
   "outputs": [],
   "source": [
    "def chat_sensitivity(name):\n",
    "    emotions_pos = 0\n",
    "    emotions_neg = 0\n",
    "    emotions_prop = 0\n",
    "    for item in fdists[name]:\n",
    "        x = get_emotions(item[0])\n",
    "        if x > 0: emotions_pos += x\n",
    "        else: emotions_neg += x\n",
    "    if emotions_neg == 0: emotions_prop = emotions_pos/1\n",
    "    else: emotions_prop = emotions_pos / (emotions_pos + abs(emotions_neg))\n",
    "\n",
    "    return emotions_prop"
   ]
  },
  {
   "cell_type": "code",
   "execution_count": null,
   "id": "8f4d1b5a",
   "metadata": {},
   "outputs": [],
   "source": [
    "fig = plt.figure()\n",
    "ax = fig.add_axes([0,0,1,1])\n",
    "fig.set_size_inches(3,2)\n",
    "x = labels.values()\n",
    "y = [round(chat_sensitivity(name) ,2) for name in names]\n",
    "bar = ax.bar(x, y, color='#ef3054')\n",
    "ax.set_ylim(top=1)\n",
    "plt.title(\"Емоційне забарвлення листувань\")\n",
    "ax.bar_label(bar)\n",
    "\n",
    "plt.show()"
   ]
  },
  {
   "cell_type": "markdown",
   "id": "4087e007",
   "metadata": {},
   "source": [
    "<a id='sentiment'></a>"
   ]
  },
  {
   "cell_type": "markdown",
   "id": "2500443f",
   "metadata": {},
   "source": [
    "### Сентиментальний аналіз"
   ]
  },
  {
   "cell_type": "markdown",
   "id": "4ae6fb34",
   "metadata": {},
   "source": [
    "Завантажуємо тональний словник української мови"
   ]
  },
  {
   "cell_type": "code",
   "execution_count": null,
   "id": "ad61b9d1",
   "metadata": {},
   "outputs": [],
   "source": [
    "nltk.download('stopwords')\n",
    "nltk.download('punkt')\n",
    "nltk.download('vader_lexicon')"
   ]
  },
  {
   "cell_type": "code",
   "execution_count": null,
   "id": "b4d334a7",
   "metadata": {},
   "outputs": [],
   "source": [
    "url = 'https://raw.githubusercontent.com/lang-uk/tone-dict-uk/master/tone-dict-uk.tsv'\n",
    "r = requests.get(url)\n",
    "with open('tone-dict-uk.tsv', 'wb') as f:\n",
    "    f.write(r.content)"
   ]
  },
  {
   "cell_type": "code",
   "execution_count": null,
   "id": "c3623b6b",
   "metadata": {
    "scrolled": false
   },
   "outputs": [],
   "source": [
    "d ={}\n",
    "with open('tone-dict-uk.txt', 'r', encoding = 'UTF-8') as csv_file:\n",
    "    for row in csv.reader(csv_file, delimiter='\\n'):\n",
    "        word = row[0].split('\\t')\n",
    "        d[word[0]] = float(word[1])\n",
    "SIA = SentimentIntensityAnalyzer()\n",
    "SIA.lexicon.update(d)"
   ]
  },
  {
   "cell_type": "code",
   "execution_count": null,
   "id": "325d75c0",
   "metadata": {},
   "outputs": [],
   "source": [
    "def sent_analysis(id):\n",
    "    mean = 0\n",
    "    length = len(df.loc[(df['dialog_id'] == id) & (df['type'] == 'text'), 'normalized'])\n",
    "\n",
    "    for message in df.loc[(df['dialog_id'] == id) & (df['type'] == 'text'), 'normalized']:\n",
    "        mean += SIA.polarity_scores(str(message))[\"compound\"]\n",
    "\n",
    "    mean /= length\n",
    "    return mean"
   ]
  },
  {
   "cell_type": "code",
   "execution_count": null,
   "id": "98bfa1f4",
   "metadata": {},
   "outputs": [],
   "source": [
    "sense_dict = {}\n",
    "\n",
    "for id in all_private_ids:\n",
    "    sense_num = sent_analysis(id)\n",
    "    name = df.loc[df['dialog_id'] == id].reset_index().loc[0,'dialog_name']\n",
    "    if sense_num != 0: sense_dict[name] = sense_num"
   ]
  },
  {
   "cell_type": "code",
   "execution_count": null,
   "id": "a454ae28",
   "metadata": {},
   "outputs": [],
   "source": [
    "lenghts = []\n",
    "for name in sense_dict.keys():\n",
    "    lenghts.append(len(df.loc[(df['dialog_name'] == name) & (df['type'] == 'text'), 'normalized']))\n",
    "\n",
    "lenghts.sort()"
   ]
  },
  {
   "cell_type": "code",
   "execution_count": null,
   "id": "7b883ab2",
   "metadata": {
    "scrolled": false
   },
   "outputs": [],
   "source": [
    "fig = plt.subplots(figsize =(12,5))\n",
    "plt.title('Залежність між емоційною забарвленістю та довжиною переписки')\n",
    "plt.xlabel('емоційна забарвленість')\n",
    "plt.ylabel('довжина переписки')\n",
    "plt.plot(lenghts, sense_dict.values())\n",
    "plt.show()"
   ]
  },
  {
   "cell_type": "markdown",
   "id": "4a24ed37",
   "metadata": {},
   "source": [
    "<a id='speaking'></a>"
   ]
  },
  {
   "cell_type": "markdown",
   "id": "bfa4394e",
   "metadata": {},
   "source": [
    "### Коли ми найбільше спілкувалися?"
   ]
  },
  {
   "cell_type": "code",
   "execution_count": null,
   "id": "52a2254c",
   "metadata": {},
   "outputs": [],
   "source": [
    "messages_df = {}\n",
    "\n",
    "for name in names:\n",
    "    messages_df[name] = df.loc[df['dialog_id'] == ids[name]].copy()"
   ]
  },
  {
   "cell_type": "code",
   "execution_count": null,
   "id": "02c4148d",
   "metadata": {},
   "outputs": [],
   "source": [
    "def messages_by_date(name):\n",
    "    messages = messages_df[name].copy()\n",
    "    messages.index = range(len(messages))\n",
    "    messages['date'] = pd.to_datetime(messages['date']).dt.date\n",
    "\n",
    "    number_of_messages = dict(messages.groupby(['date'])['date'].count())\n",
    "    return number_of_messages"
   ]
  },
  {
   "cell_type": "code",
   "execution_count": null,
   "id": "41709171",
   "metadata": {},
   "outputs": [],
   "source": [
    "number_of_m ={}\n",
    "for name in names:\n",
    "    number_of_m[name] = messages_by_date(name)"
   ]
  },
  {
   "cell_type": "code",
   "execution_count": null,
   "id": "8baffc25",
   "metadata": {},
   "outputs": [],
   "source": [
    "def draw_plot(x, y, ax, color, title=None, fontsize=12):\n",
    "    ax.plot(x, y, color=color)\n",
    "\n",
    "    ax.xaxis.set_major_locator(mdates.MonthLocator(bymonth=(3,6,9,12)))\n",
    "    ax.xaxis.set_minor_locator(mdates.MonthLocator())\n",
    "    \n",
    "    ax.set_xlabel('дата', fontsize=fontsize/1.2)\n",
    "    ax.set_ylabel('повідомлення', fontsize=fontsize/1.2)\n",
    "    ax.set_title(title, fontsize=fontsize)"
   ]
  },
  {
   "cell_type": "code",
   "execution_count": null,
   "id": "19f14a59",
   "metadata": {},
   "outputs": [],
   "source": [
    "colors = ['#0d88e6', '#00b7c7', '#5ad45a', '#8be04e']\n",
    "axes = [x for x in range(4)]\n",
    "fig, ((axes[0], axes[1]), (axes[2], axes[3])) = plt.subplots(nrows=2, ncols=2, figsize=(10, 6))\n",
    "\n",
    "counter = 0\n",
    "# Ви можете змінювати порядок графіків, змінюючи порядок імен у names\n",
    "for name in names:\n",
    "    draw_plot(get_x_y(number_of_m[name])[0], get_x_y(number_of_m[name])[1], axes[counter],\\\n",
    "              title=labels[name], color=colors[counter])\n",
    "    counter += 1\n",
    "\n",
    "plt.suptitle('Кількість повідомлень залежно від часу')\n",
    "plt.tight_layout()"
   ]
  },
  {
   "cell_type": "markdown",
   "id": "4d78ac16",
   "metadata": {},
   "source": [
    "Погляньмо на спільний графік"
   ]
  },
  {
   "cell_type": "code",
   "execution_count": null,
   "id": "04e5427c",
   "metadata": {},
   "outputs": [],
   "source": [
    "colors = ['#ffa300', '#0bb4ff','#9b19f5', '#e60049']\n",
    "fig = plt.subplots(figsize =(12,5))\n",
    "\n",
    "counter = 0\n",
    "for name in names:\n",
    "    plt.plot(get_x_y(number_of_m[name])[0], get_x_y(number_of_m[name])[1], color=colors[counter], label=labels[name])\n",
    "    counter += 1\n",
    "\n",
    "plt.legend(loc=\"upper left\")\n",
    "plt.title('Кількість повідомлень залежно від часу')\n",
    "plt.show()"
   ]
  },
  {
   "cell_type": "markdown",
   "id": "c4fd4649",
   "metadata": {},
   "source": [
    "<a id='ner'></a>"
   ]
  },
  {
   "cell_type": "markdown",
   "id": "3a5f53af",
   "metadata": {},
   "source": [
    "### Які іменовані сутності найбільш поширені у переписках?"
   ]
  },
  {
   "cell_type": "code",
   "execution_count": null,
   "id": "a713d3ab",
   "metadata": {},
   "outputs": [],
   "source": [
    "nlp = stanza.Pipeline(lang='uk', processors='tokenize,ner')"
   ]
  },
  {
   "cell_type": "code",
   "execution_count": null,
   "id": "ca50ed49",
   "metadata": {},
   "outputs": [],
   "source": [
    "def get_text(fdist):\n",
    "    return ' '.join(item[0] for item in fdist)"
   ]
  },
  {
   "cell_type": "code",
   "execution_count": null,
   "id": "23464f85",
   "metadata": {},
   "outputs": [],
   "source": [
    "for name in names:\n",
    "    doc[name] = nlp(get_text(fdists[name]))"
   ]
  },
  {
   "cell_type": "code",
   "execution_count": null,
   "id": "bdbc7ba1",
   "metadata": {},
   "outputs": [],
   "source": [
    "def ner(name, ne_type='PERS'):    \n",
    "    counter = 0\n",
    "    result = []\n",
    "    for num in range(len(doc[name].ents)):\n",
    "        if doc[name].ents[num].type == ne_type:\n",
    "            if counter > 10: break\n",
    "            counter += 1\n",
    "            result.append(doc[name].ents[num].text)\n",
    "    return result"
   ]
  },
  {
   "cell_type": "code",
   "execution_count": null,
   "id": "d5b468de",
   "metadata": {},
   "outputs": [],
   "source": [
    "ner(\"вставте тут 1 ім'я з names\", 'LOC')"
   ]
  },
  {
   "cell_type": "code",
   "execution_count": null,
   "id": "8e7e02bb",
   "metadata": {},
   "outputs": [],
   "source": [
    "ner(\"вставте тут 2 ім'я з names\", 'LOC')"
   ]
  },
  {
   "cell_type": "code",
   "execution_count": null,
   "id": "cc3240f2",
   "metadata": {},
   "outputs": [],
   "source": [
    "ner(\"вставте тут 3 ім'я з names\", 'LOC')"
   ]
  },
  {
   "cell_type": "code",
   "execution_count": null,
   "id": "bf2dd874",
   "metadata": {},
   "outputs": [],
   "source": [
    "ner(\"вставте тут 4 ім'я з names\", 'LOC')"
   ]
  }
 ],
 "metadata": {
  "kernelspec": {
   "display_name": "Python 3 (ipykernel)",
   "language": "python",
   "name": "python3"
  },
  "language_info": {
   "codemirror_mode": {
    "name": "ipython",
    "version": 3
   },
   "file_extension": ".py",
   "mimetype": "text/x-python",
   "name": "python",
   "nbconvert_exporter": "python",
   "pygments_lexer": "ipython3",
   "version": "3.9.10"
  }
 },
 "nbformat": 4,
 "nbformat_minor": 5
}
